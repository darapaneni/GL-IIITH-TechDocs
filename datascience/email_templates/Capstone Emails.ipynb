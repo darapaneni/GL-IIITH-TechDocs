{
 "cells": [
  {
   "cell_type": "code",
   "execution_count": 8,
   "id": "83c43859",
   "metadata": {},
   "outputs": [],
   "source": [
    "import smtplib\n",
    "from email.mime.multipart import MIMEMultipart\n",
    "from email.mime.text import MIMEText\n",
    "\n",
    "# SMTP configuration\n",
    "smtp_server = 'smtp.gmail.com'  # Replace with the actual SMTP server address\n",
    "smtp_port = 587\n",
    "smtp_username = 'kritika.gl'  # Replace with your SMTP username\n",
    "smtp_password = 'Test123@' # Replace with your SMTP password\n",
    "def send_welcome_email(username, to_email):\n",
    "    # Email content\n",
    "    subject = 'Welcome'\n",
    "    from_email = 'techdocs@yopmail.com'\n",
    "\n",
    "    # Email Content \n",
    "    html_content = \"\"\"\n",
    "    <!DOCTYPE html>\n",
    "    <html>\n",
    "    <head>\n",
    "        <title>Welcome Email</title>\n",
    "    </head>\n",
    "    <body>\n",
    "        <p>Hello {0},</p>\n",
    "        <p>Thank you for signing up! We're excited to have you as a new member.</p>\n",
    "        <p>If you have any questions or need assistance, feel free to contact us.</p>\n",
    "        <p>Best regards,</p>\n",
    "        <p>Welcome Team</p>\n",
    "    </body>\n",
    "    </html>\n",
    "    \"\"\".format(username)\n",
    "\n",
    "  "
   ]
  },
  {
   "cell_type": "code",
   "execution_count": 10,
   "id": "07ba21af",
   "metadata": {},
   "outputs": [
    {
     "name": "stdout",
     "output_type": "stream",
     "text": [
      "Enter your username: kritika.gl\n",
      "Enter your password: Test123@\n",
      "Enter your email address: kritika.gl@gmail.com\n"
     ]
    }
   ],
   "source": [
    "  # Create an email message\n",
    "msg = MIMEMultipart()\n",
    "msg['From'] = from_email\n",
    "msg['To'] = to_email\n",
    "msg['Subject'] = subject\n",
    "\n",
    "  \n",
    "msg.attach(MIMEText(html_content, 'html'))\n",
    "\n",
    "\n",
    "# Input from the user\n",
    "username = input('Enter your username: ')\n",
    "password = input('Enter your password: ')\n",
    "email = input('Enter your email address: ')\n",
    "\n",
    "\n",
    "send_welcome_email(username, email)"
   ]
  },
  {
   "cell_type": "code",
   "execution_count": 11,
   "id": "aae31ed4",
   "metadata": {},
   "outputs": [],
   "source": [
    "subject = 'Reset Your Password'\n",
    "from_email = 'techdoc@yopmail.com'\n",
    "to_email = 'kritika.gl@gmail.com'\n",
    "reset_link = 'https://restsetpassword.com'  #update link\n",
    "\n",
    "# HTML content\n",
    "html_content = \"\"\"\n",
    "<!DOCTYPE html>\n",
    "<html>\n",
    "<head>\n",
    "    <title>Password Reset Email</title>\n",
    "</head>\n",
    "<body>\n",
    "    <p>Hi there,</p>\n",
    "    <p>We received a request to reset your password. To reset your password, please click on the link below:</p>\n",
    "    <p><a href=\"{{RESET_LINK}}\">Reset Password</a></p>\n",
    "    <p>If you did not request this, you can safely ignore this email. Your password will remain unchanged.</p>\n",
    "    <p>Best regards,</p>\n",
    "    <p>Your Website Team</p>\n",
    "</body>\n",
    "</html>\n",
    "\"\"\"\n",
    "\n"
   ]
  },
  {
   "cell_type": "code",
   "execution_count": 12,
   "id": "dfada201",
   "metadata": {},
   "outputs": [],
   "source": [
    "# Create an email message\n",
    "msg = MIMEMultipart()\n",
    "msg['From'] = from_email\n",
    "msg['To'] = to_email\n",
    "msg['Subject'] = subject\n",
    "\n",
    "\n",
    "html_content = html_content.replace('{{RESET_LINK}}', reset_link)\n",
    "\n",
    "# Attach HTML content\n",
    "msg.attach(MIMEText(html_content, 'html'))\n",
    "\n"
   ]
  },
  {
   "cell_type": "markdown",
   "id": "5ae5121a",
   "metadata": {},
   "source": []
  }
 ],
 "metadata": {
  "kernelspec": {
   "display_name": "Python 3 (ipykernel)",
   "language": "python",
   "name": "python3"
  },
  "language_info": {
   "codemirror_mode": {
    "name": "ipython",
    "version": 3
   },
   "file_extension": ".py",
   "mimetype": "text/x-python",
   "name": "python",
   "nbconvert_exporter": "python",
   "pygments_lexer": "ipython3",
   "version": "3.9.18"
  }
 },
 "nbformat": 4,
 "nbformat_minor": 5
}
