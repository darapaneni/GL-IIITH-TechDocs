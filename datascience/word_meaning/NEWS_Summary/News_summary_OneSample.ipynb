{
 "cells": [
  {
   "cell_type": "code",
   "execution_count": 1,
   "id": "119a7597",
   "metadata": {},
   "outputs": [
    {
     "name": "stderr",
     "output_type": "stream",
     "text": [
      "C:\\Users\\ASUS\\anaconda3\\envs\\python_pyspark\\Lib\\site-packages\\tqdm\\auto.py:21: TqdmWarning: IProgress not found. Please update jupyter and ipywidgets. See https://ipywidgets.readthedocs.io/en/stable/user_install.html\n",
      "  from .autonotebook import tqdm as notebook_tqdm\n"
     ]
    }
   ],
   "source": [
    "import pandas as pd\n",
    "from transformers import BartTokenizer, BartForConditionalGeneration"
   ]
  },
  {
   "cell_type": "code",
   "execution_count": null,
   "id": "a63d2b8d",
   "metadata": {},
   "outputs": [],
   "source": [
    "def generate_and_add_summary_column(csv_file_path, input_column_name, target_column_name, model_name, output_column_name):\n",
    "    # Load the CSV data into a DataFrame\n",
    "    df = pd.read_csv(csv_file_path,nrows=10)\n",
    "\n",
    "    # Initialize the BART tokenizer and model\n",
    "    tokenizer = BartTokenizer.from_pretrained(model_name)\n",
    "    model = BartForConditionalGeneration.from_pretrained(model_name)\n",
    "\n",
    "    # Initialize an empty list to store generated summaries\n",
    "    generated_summaries = []\n",
    "\n",
    "    # Iterate through the rows of the DataFrame\n",
    "    for index, row in df.iterrows():\n",
    "        input_text = row[input_column_name]\n",
    "\n",
    "        # Tokenize and generate summary\n",
    "        input_ids = tokenizer(input_text, return_tensors=\"pt\", max_length=1024, truncation=True, padding=True)\n",
    "        summary_ids = model.generate(input_ids[\"input_ids\"], num_beams=4, max_length=150, early_stopping=True)\n",
    "\n",
    "        # Decode and append the generated summary\n",
    "        summary = tokenizer.decode(summary_ids[0], skip_special_tokens=True)\n",
    "        generated_summaries.append(summary)\n",
    "\n",
    "    # Add the generated summaries to the DataFrame as a new column\n",
    "    df[output_column_name] = generated_summaries\n",
    "\n",
    "    # Save the DataFrame with the new column for generated summaries to a new CSV file\n",
    "    output_csv_file = \"C:/Users/ASUS/Downloads/Assignment/output_with_generated_summaries.csv\"\n",
    "    df.to_csv(output_csv_file, index=False)\n",
    "\n",
    "    print(f\"Generated summaries added to '{output_column_name}' column and saved to {output_csv_file}\")"
   ]
  },
  {
   "cell_type": "code",
   "execution_count": 2,
   "id": "ef6afc50",
   "metadata": {},
   "outputs": [],
   "source": [
    "csv_file_path = \"C:/Users/ASUS/Downloads/Assignment/data.csv\"\n",
    "input_column_name = \"Content\"\n",
    "target_column_name = \"Summary\"\n",
    "model_name = \"facebook/bart-large-cnn\"\n",
    "output_column_name = \"Generated_Summary\""
   ]
  },
  {
   "cell_type": "code",
   "execution_count": 3,
   "id": "70e90a91",
   "metadata": {},
   "outputs": [],
   "source": [
    "df = pd.read_csv(csv_file_path,nrows=10)\n"
   ]
  },
  {
   "cell_type": "code",
   "execution_count": 4,
   "id": "88aa3066",
   "metadata": {},
   "outputs": [
    {
     "name": "stdout",
     "output_type": "stream",
     "text": [
      "<class 'pandas.core.frame.DataFrame'>\n",
      "RangeIndex: 10 entries, 0 to 9\n",
      "Data columns (total 5 columns):\n",
      " #   Column      Non-Null Count  Dtype \n",
      "---  ------      --------------  ----- \n",
      " 0   Unnamed: 0  10 non-null     int64 \n",
      " 1   ID          10 non-null     object\n",
      " 2   Content     10 non-null     object\n",
      " 3   Summary     10 non-null     object\n",
      " 4   Dataset     10 non-null     object\n",
      "dtypes: int64(1), object(4)\n",
      "memory usage: 532.0+ bytes\n"
     ]
    }
   ],
   "source": [
    "df.info()"
   ]
  },
  {
   "cell_type": "code",
   "execution_count": 5,
   "id": "e19c0ec2",
   "metadata": {},
   "outputs": [],
   "source": [
    "# Initialize the BART tokenizer and model\n",
    "tokenizer = BartTokenizer.from_pretrained(model_name)\n",
    "model = BartForConditionalGeneration.from_pretrained(model_name)"
   ]
  },
  {
   "cell_type": "code",
   "execution_count": 7,
   "id": "db86dd0d",
   "metadata": {},
   "outputs": [
    {
     "data": {
      "text/plain": [
       "\"New York police are concerned drones could become tools for terrorists, and are investigating ways to stop potential attacks. Until now police haven't acknowledged drones as a potential weapon, but the NYPD has now said the technology has advanced enough that someone could use them to carry out an air assault using chemical weapons and firearms. Police want to develop technology which will allow them to take control of drones as well as scan the skies for them before major events. The NYPD says drones carrying explosives are the number one threat as they investigate ways to stop attacks . Deputy Chief Salvatore DiPace, left, was concerned about an incident last year where a drone was landed in front of German Chancellor Angela Merkel and 'could have took the chancellor and her people out' A drone which was flown over a packed football stadium in Manchester, England, just over a week ago, resulting in the suspected pilot being arrested . They are consulting with the military and members of its counterterrorism, bomb squad, emergency services and aviation units are working on a plan to counter weaponized drones. The NYPD hasn't received any intelligence indicating there is an imminent threat, but has become increasingly concerned over the last year. Deputy Chief Salvatore DiPace told CBS News:\\xa0'We've looked at some people that have jury-rigged these drones to carry guns, to carry different types of explosives if they wanted to; there's just so many possibilities that we're very worried about.' Mr Dipace said police had also seen video showing how accurate an attack from a drone could be:\\xa0'We've seen some video where the drone was flying at different targets along the route and very accurately hitting the targets with the paintball. The NYPD now sees a drone carrying explosives as the number one threat. Mr DiPace's concerns follow an incident in Germany last year where a drone was able to land just in front of German Chancellor Angela Merkel as she delivered a speech. The drone, circled, landed in front of Ms Merkel as she delivered a speech sin Germany sparking fears that the device could easily be used to commit a terrorist act . He said:\\xa0'If you really think about what could have happened there, the drone hit its target right on the mark and could have took the chancellor and her people out.' There has been a dramatic increase of incidents involving drones in New York City in the last year, with 40 recorded. In some cases unmanned aircraft systems or drones had flown into airspace being used by NYPD helicopters. In one incident this summer, a drone which was almost 800 feet off the ground, nearly collided with a police helicopter. NYPD Aviation Unit Member, Sergeant Antonio Hernandez said: 'We're flying in the dark; we have night-vision goggles on, we're trying to get a job done and then the next thing you know we see this drone come up to our altitude.'\""
      ]
     },
     "execution_count": 7,
     "metadata": {},
     "output_type": "execute_result"
    }
   ],
   "source": [
    "df['Content'].iloc[0]"
   ]
  },
  {
   "cell_type": "code",
   "execution_count": 8,
   "id": "0aa69881",
   "metadata": {},
   "outputs": [
    {
     "data": {
      "text/plain": [
       "'Police have investigated criminals who have rigged guns to drones .\\nAnd are working with the military to develop technology to stop attacks .\\nIncidents involving drones have drastically increased in New York City .\\nLast year a drone was landed in front of German Chancellor Angela Merkel .'"
      ]
     },
     "execution_count": 8,
     "metadata": {},
     "output_type": "execute_result"
    }
   ],
   "source": [
    "df['Summary'].iloc[0]"
   ]
  },
  {
   "cell_type": "code",
   "execution_count": 9,
   "id": "a1ac0765",
   "metadata": {},
   "outputs": [],
   "source": [
    "input_text = df['Content'].iloc[0]"
   ]
  },
  {
   "cell_type": "code",
   "execution_count": 10,
   "id": "38ed6d31",
   "metadata": {},
   "outputs": [],
   "source": [
    "input_ids = tokenizer(input_text, return_tensors=\"pt\", max_length=1024, truncation=True, padding=True)"
   ]
  },
  {
   "cell_type": "code",
   "execution_count": 11,
   "id": "dc1351df",
   "metadata": {},
   "outputs": [],
   "source": [
    "summary_ids = model.generate(input_ids[\"input_ids\"], num_beams=4, max_length=150, early_stopping=True)\n"
   ]
  },
  {
   "cell_type": "code",
   "execution_count": 12,
   "id": "27858f0c",
   "metadata": {},
   "outputs": [
    {
     "name": "stdout",
     "output_type": "stream",
     "text": [
      "Generated Summary: New York police are concerned drones could become tools for terrorists. They are investigating ways to stop potential attacks using drones. Police want to develop technology which will allow them to take control of drones as well as scan the skies for them before major events. The NYPD hasn't received any intelligence indicating there is an imminent threat.\n"
     ]
    }
   ],
   "source": [
    "# Decode and print the generated summary\n",
    "summary = tokenizer.decode(summary_ids[0], skip_special_tokens=True)\n",
    "print(\"Generated Summary:\", summary)"
   ]
  },
  {
   "cell_type": "code",
   "execution_count": null,
   "id": "ed5133e6",
   "metadata": {},
   "outputs": [],
   "source": []
  }
 ],
 "metadata": {
  "kernelspec": {
   "display_name": "Python 3 (ipykernel)",
   "language": "python",
   "name": "python3"
  },
  "language_info": {
   "codemirror_mode": {
    "name": "ipython",
    "version": 3
   },
   "file_extension": ".py",
   "mimetype": "text/x-python",
   "name": "python",
   "nbconvert_exporter": "python",
   "pygments_lexer": "ipython3",
   "version": "3.11.4"
  }
 },
 "nbformat": 4,
 "nbformat_minor": 5
}
