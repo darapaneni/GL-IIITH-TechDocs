{
 "cells": [
  {
   "cell_type": "code",
   "execution_count": 1,
   "id": "2732a1c3",
   "metadata": {},
   "outputs": [],
   "source": [
    "import nltk\n",
    "from nltk.corpus import wordnet"
   ]
  },
  {
   "cell_type": "code",
   "execution_count": null,
   "id": "b48bbb37",
   "metadata": {},
   "outputs": [],
   "source": [
    "#nltk.download('wordnet')\n",
    "#nltk.download('omw-1.4')"
   ]
  },
  {
   "cell_type": "code",
   "execution_count": 2,
   "id": "4c319c06",
   "metadata": {},
   "outputs": [],
   "source": [
    "def get_word_meanings(word):\n",
    "    meanings = []\n",
    "    for synset in wordnet.synsets(word):\n",
    "            meaning = synset.definition()\n",
    "            meanings.append(meaning)\n",
    "    return meanings"
   ]
  },
  {
   "cell_type": "code",
   "execution_count": 3,
   "id": "6060471e",
   "metadata": {},
   "outputs": [],
   "source": [
    "word_to_find_meanings_for = \"example\"\n",
    "meanings = get_word_meanings(word_to_find_meanings_for)"
   ]
  },
  {
   "cell_type": "code",
   "execution_count": 4,
   "id": "e138a4e7",
   "metadata": {},
   "outputs": [
    {
     "name": "stdout",
     "output_type": "stream",
     "text": [
      "['an item of information that is typical of a class or group', 'a representative form or pattern', 'something to be imitated', 'punishment intended as a warning to others', 'an occurrence of something', 'a task performed or problem solved in order to develop skill or understanding']\n"
     ]
    }
   ],
   "source": [
    "print(meanings)"
   ]
  },
  {
   "cell_type": "code",
   "execution_count": null,
   "id": "e0b4cd3e",
   "metadata": {},
   "outputs": [],
   "source": []
  }
 ],
 "metadata": {
  "kernelspec": {
   "display_name": "Python 3 (ipykernel)",
   "language": "python",
   "name": "python3"
  },
  "language_info": {
   "codemirror_mode": {
    "name": "ipython",
    "version": 3
   },
   "file_extension": ".py",
   "mimetype": "text/x-python",
   "name": "python",
   "nbconvert_exporter": "python",
   "pygments_lexer": "ipython3",
   "version": "3.11.4"
  }
 },
 "nbformat": 4,
 "nbformat_minor": 5
}
